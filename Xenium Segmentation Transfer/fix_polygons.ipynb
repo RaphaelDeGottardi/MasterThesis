{
 "cells": [
  {
   "cell_type": "code",
   "execution_count": 1,
   "id": "c4036fbd",
   "metadata": {},
   "outputs": [],
   "source": [
    "import json\n",
    "from collections import namedtuple, Counter\n",
    "\n",
    "import numpy as np\n",
    "import scanpy as sc\n",
    "import pandas as pd\n",
    "import zarr\n",
    "\n",
    "## Image manipulation and geometry\n",
    "from tifffile import TiffFile\n",
    "from tifffile import imread\n",
    "from skimage.io import imread as skimread\n",
    "\n",
    "# Polygon manipulation and geometry\n",
    "from shapely.geometry import Polygon\n",
    "from shapely.geometry import LinearRing\n",
    "from shapely import wkt\n",
    "## Plotting imports\n",
    "from matplotlib import pyplot as plt\n",
    "from matplotlib.colors import LinearSegmentedColormap, Normalize, to_hex, Colormap\n",
    "from matplotlib.cm import ScalarMappable\n",
    "\n",
    "### Functions for registration of Xenium to Visium data and associated analyis and visualization\n",
    "## Visualization functions\n",
    "from companion_functions import (\n",
    "    plot_polygons\n",
    ")\n"
   ]
  },
  {
   "cell_type": "code",
   "execution_count": 2,
   "id": "445afe67",
   "metadata": {},
   "outputs": [],
   "source": [
    "#Load the polgons from csv file\n",
    "xenium_cell_polygons = pd.read_csv('nuclei_df_bugy.csv')"
   ]
  },
  {
   "cell_type": "code",
   "execution_count": 3,
   "id": "bddce40c",
   "metadata": {},
   "outputs": [
    {
     "data": {
      "text/html": [
       "<div>\n",
       "<style scoped>\n",
       "    .dataframe tbody tr th:only-of-type {\n",
       "        vertical-align: middle;\n",
       "    }\n",
       "\n",
       "    .dataframe tbody tr th {\n",
       "        vertical-align: top;\n",
       "    }\n",
       "\n",
       "    .dataframe thead th {\n",
       "        text-align: right;\n",
       "    }\n",
       "</style>\n",
       "<table border=\"1\" class=\"dataframe\">\n",
       "  <thead>\n",
       "    <tr style=\"text-align: right;\">\n",
       "      <th></th>\n",
       "      <th>Unnamed: 0</th>\n",
       "      <th>geometry</th>\n",
       "      <th>id</th>\n",
       "      <th>cell_x</th>\n",
       "      <th>cell_y</th>\n",
       "      <th>centroid</th>\n",
       "    </tr>\n",
       "  </thead>\n",
       "  <tbody>\n",
       "    <tr>\n",
       "      <th>0</th>\n",
       "      <td>0</td>\n",
       "      <td>POLYGON ((8153.67138671875 3387.9892578125, 81...</td>\n",
       "      <td>ID_1</td>\n",
       "      <td>8140.082</td>\n",
       "      <td>3389.3010</td>\n",
       "      <td>(8140.082, 3528.301)</td>\n",
       "    </tr>\n",
       "    <tr>\n",
       "      <th>1</th>\n",
       "      <td>1</td>\n",
       "      <td>POLYGON ((8016.0625 3461.97119140625, 8011.365...</td>\n",
       "      <td>ID_2</td>\n",
       "      <td>8001.864</td>\n",
       "      <td>3468.8760</td>\n",
       "      <td>(8001.864, 3607.876)</td>\n",
       "    </tr>\n",
       "    <tr>\n",
       "      <th>2</th>\n",
       "      <td>2</td>\n",
       "      <td>POLYGON ((8074.77099609375 3424.279052734375, ...</td>\n",
       "      <td>ID_3</td>\n",
       "      <td>8062.877</td>\n",
       "      <td>3423.9019</td>\n",
       "      <td>(8062.877, 3562.9019)</td>\n",
       "    </tr>\n",
       "    <tr>\n",
       "      <th>3</th>\n",
       "      <td>3</td>\n",
       "      <td>POLYGON ((7977.92236328125 3447.507568359375, ...</td>\n",
       "      <td>ID_4</td>\n",
       "      <td>7965.358</td>\n",
       "      <td>3452.9410</td>\n",
       "      <td>(7965.358, 3591.941)</td>\n",
       "    </tr>\n",
       "    <tr>\n",
       "      <th>4</th>\n",
       "      <td>4</td>\n",
       "      <td>POLYGON ((8033.126953125 3251.503173828125, 80...</td>\n",
       "      <td>ID_5</td>\n",
       "      <td>8022.654</td>\n",
       "      <td>3250.0593</td>\n",
       "      <td>(8022.654, 3389.0593)</td>\n",
       "    </tr>\n",
       "    <tr>\n",
       "      <th>...</th>\n",
       "      <td>...</td>\n",
       "      <td>...</td>\n",
       "      <td>...</td>\n",
       "      <td>...</td>\n",
       "      <td>...</td>\n",
       "      <td>...</td>\n",
       "    </tr>\n",
       "    <tr>\n",
       "      <th>165130</th>\n",
       "      <td>277653</td>\n",
       "      <td>POLYGON ((18131.0234375 21528.193359375, 18126...</td>\n",
       "      <td>ID_277654</td>\n",
       "      <td>18111.076</td>\n",
       "      <td>21530.2970</td>\n",
       "      <td>(18111.076, 21669.297)</td>\n",
       "    </tr>\n",
       "    <tr>\n",
       "      <th>165131</th>\n",
       "      <td>277654</td>\n",
       "      <td>POLYGON ((17868.455078125 21184.75, 17867.6718...</td>\n",
       "      <td>ID_277655</td>\n",
       "      <td>17860.938</td>\n",
       "      <td>21188.3120</td>\n",
       "      <td>(17860.938, 21327.312)</td>\n",
       "    </tr>\n",
       "    <tr>\n",
       "      <th>165132</th>\n",
       "      <td>277655</td>\n",
       "      <td>POLYGON ((18025.462890625 21214.62890625, 1802...</td>\n",
       "      <td>ID_277656</td>\n",
       "      <td>18015.506</td>\n",
       "      <td>21215.5720</td>\n",
       "      <td>(18015.506, 21354.572)</td>\n",
       "    </tr>\n",
       "    <tr>\n",
       "      <th>165133</th>\n",
       "      <td>277656</td>\n",
       "      <td>POLYGON ((18387.8671875 21205.7265625, 18386.2...</td>\n",
       "      <td>ID_277657</td>\n",
       "      <td>18380.260</td>\n",
       "      <td>21218.1400</td>\n",
       "      <td>(18380.26, 21357.14)</td>\n",
       "    </tr>\n",
       "    <tr>\n",
       "      <th>165134</th>\n",
       "      <td>277737</td>\n",
       "      <td>POLYGON ((18314.287109375 18928.220703125, 183...</td>\n",
       "      <td>ID_277738</td>\n",
       "      <td>18310.158</td>\n",
       "      <td>18928.3440</td>\n",
       "      <td>(18310.158, 19067.344)</td>\n",
       "    </tr>\n",
       "  </tbody>\n",
       "</table>\n",
       "<p>165135 rows × 6 columns</p>\n",
       "</div>"
      ],
      "text/plain": [
       "        Unnamed: 0                                           geometry  \\\n",
       "0                0  POLYGON ((8153.67138671875 3387.9892578125, 81...   \n",
       "1                1  POLYGON ((8016.0625 3461.97119140625, 8011.365...   \n",
       "2                2  POLYGON ((8074.77099609375 3424.279052734375, ...   \n",
       "3                3  POLYGON ((7977.92236328125 3447.507568359375, ...   \n",
       "4                4  POLYGON ((8033.126953125 3251.503173828125, 80...   \n",
       "...            ...                                                ...   \n",
       "165130      277653  POLYGON ((18131.0234375 21528.193359375, 18126...   \n",
       "165131      277654  POLYGON ((17868.455078125 21184.75, 17867.6718...   \n",
       "165132      277655  POLYGON ((18025.462890625 21214.62890625, 1802...   \n",
       "165133      277656  POLYGON ((18387.8671875 21205.7265625, 18386.2...   \n",
       "165134      277737  POLYGON ((18314.287109375 18928.220703125, 183...   \n",
       "\n",
       "               id     cell_x      cell_y                centroid  \n",
       "0            ID_1   8140.082   3389.3010    (8140.082, 3528.301)  \n",
       "1            ID_2   8001.864   3468.8760    (8001.864, 3607.876)  \n",
       "2            ID_3   8062.877   3423.9019   (8062.877, 3562.9019)  \n",
       "3            ID_4   7965.358   3452.9410    (7965.358, 3591.941)  \n",
       "4            ID_5   8022.654   3250.0593   (8022.654, 3389.0593)  \n",
       "...           ...        ...         ...                     ...  \n",
       "165130  ID_277654  18111.076  21530.2970  (18111.076, 21669.297)  \n",
       "165131  ID_277655  17860.938  21188.3120  (17860.938, 21327.312)  \n",
       "165132  ID_277656  18015.506  21215.5720  (18015.506, 21354.572)  \n",
       "165133  ID_277657  18380.260  21218.1400    (18380.26, 21357.14)  \n",
       "165134  ID_277738  18310.158  18928.3440  (18310.158, 19067.344)  \n",
       "\n",
       "[165135 rows x 6 columns]"
      ]
     },
     "execution_count": 3,
     "metadata": {},
     "output_type": "execute_result"
    }
   ],
   "source": [
    "xenium_cell_polygons"
   ]
  },
  {
   "cell_type": "code",
   "execution_count": 4,
   "id": "705439cd",
   "metadata": {},
   "outputs": [],
   "source": [
    "xenium_cell_polygons[\"parsed_geometry\"] = xenium_cell_polygons[\"geometry\"].apply(wkt.loads)\n",
    "# Convert parsed_geometry to list of arrays with alternating x and y values\n",
    "xenium_cell_polygons[\"parsed_coordinates\"] = xenium_cell_polygons[\"parsed_geometry\"].apply(\n",
    "    lambda geom: np.array(geom.exterior.coords).flatten()\n",
    ")"
   ]
  },
  {
   "cell_type": "code",
   "execution_count": 5,
   "id": "72dd5689",
   "metadata": {},
   "outputs": [
    {
     "data": {
      "text/plain": [
       "array([8153.67138672, 3387.98925781, 8152.88818359, 3387.21875   ,\n",
       "       8152.07763672, 3382.56787109, 8147.38671875, 3377.94580078,\n",
       "       8138.82666016, 3374.90478516, 8136.49755859, 3374.92211914,\n",
       "       8131.08251953, 3377.29052734, 8128.00097656, 3380.41821289,\n",
       "       8127.23681641, 3381.97631836, 8127.25976562, 3385.08056641,\n",
       "       8126.48974609, 3385.86254883, 8127.27099609, 3386.63305664,\n",
       "       8127.29980469, 3390.51367188, 8128.88037109, 3394.3828125 ,\n",
       "       8131.24414062, 3399.0222168 , 8134.37207031, 3402.10375977,\n",
       "       8137.48681641, 3403.6328125 , 8139.81591797, 3403.61547852,\n",
       "       8142.13916016, 3402.82202148, 8146.77832031, 3400.45898438,\n",
       "       8152.1640625 , 3394.2097168 , 8152.92822266, 3392.65161133,\n",
       "       8152.90527344, 3389.54711914, 8153.67724609, 3388.76513672,\n",
       "       8153.67138672, 3387.98925781])"
      ]
     },
     "execution_count": 5,
     "metadata": {},
     "output_type": "execute_result"
    }
   ],
   "source": [
    "xenium_cell_polygons[\"parsed_coordinates\"][0]"
   ]
  },
  {
   "cell_type": "code",
   "execution_count": 6,
   "id": "6e8ffe15",
   "metadata": {},
   "outputs": [
    {
     "name": "stdout",
     "output_type": "stream",
     "text": [
      "Indices of invalid polygons: [16328, 33038, 35339, 38782, 40952, 43377, 46752, 49724, 53898, 54165, 56264, 56929, 68342, 75225, 75487, 75633, 75849, 75888, 77393, 79306, 80136, 80801, 81755, 82192, 83487, 84027, 85628, 85834, 85877, 92139, 94075, 95738, 99686, 100755, 101409, 107005, 107608, 110288, 110776, 112450, 116711, 117983, 118117, 119614, 120146, 128175, 130051, 130791, 132885, 134916, 134977, 138935, 140508, 142456, 142897, 142913, 143555, 146833, 148698, 151513, 151718, 152226, 152496, 154712, 154859, 155634, 159820, 162796, 163279, 163552, 164456]\n",
      "Number of invalid polygons: 71\n"
     ]
    }
   ],
   "source": [
    "invalid_indices = []\n",
    "for idx, coords in xenium_cell_polygons[\"parsed_coordinates\"].items():\n",
    "    try:\n",
    "        # Reshape to (N, 2) for Polygon\n",
    "        polygon = Polygon(coords.reshape(-1, 2))\n",
    "        if not polygon.is_valid:\n",
    "            invalid_indices.append(idx)\n",
    "    except Exception as e:\n",
    "        invalid_indices.append(idx)\n",
    "\n",
    "print(\"Indices of invalid polygons:\", invalid_indices)\n",
    "print(\"Number of invalid polygons:\", len(invalid_indices))"
   ]
  },
  {
   "cell_type": "code",
   "execution_count": 8,
   "id": "306cb58f",
   "metadata": {},
   "outputs": [
    {
     "data": {
      "image/png": "[encoded data removed]",
      "text/plain": [
       "<Figure size 800x800 with 1 Axes>"
      ]
     },
     "metadata": {},
     "output_type": "display_data"
    }
   ],
   "source": [
    "\n",
    "filtered_cell_polygons = xenium_cell_polygons.loc[invalid_indices[0]][\"parsed_coordinates\"]\n",
    "\n",
    "cell_polygons = [filtered_cell_polygons.reshape(-1, 2)]\n",
    "\n",
    "fig = plt.figure(figsize=(8, 8))\n",
    "ax = plt.gca()\n",
    "plot_polygons(\n",
    "    cell_polygons,\n",
    "    ax=ax,\n",
    "    facecolor=(0, 0, 0, 0),\n",
    "    edgecolor=\"blue\",\n",
    "    linewidth=1,\n",
    ")"
   ]
  },
  {
   "cell_type": "code",
   "execution_count": 9,
   "id": "27d275aa",
   "metadata": {},
   "outputs": [],
   "source": [
    "def fix_polygon(coords):\n",
    "    try:\n",
    "        poly = Polygon(coords.reshape(-1, 2))\n",
    "        if not poly.is_valid:\n",
    "            # Attempt to fix with buffer(0)\n",
    "            fixed = poly.buffer(0)\n",
    "            if fixed.is_valid and not fixed.is_empty:\n",
    "                return np.array(fixed.exterior.coords).flatten()\n",
    "            else:\n",
    "                return np.nan  # Could not fix\n",
    "        else:\n",
    "            return coords\n",
    "    except Exception:\n",
    "        return np.nan\n"
   ]
  },
  {
   "cell_type": "code",
   "execution_count": 10,
   "id": "e91fc3fc",
   "metadata": {},
   "outputs": [
    {
     "data": {
      "image/png": "[encoded data removed]",
      "text/plain": [
       "<Figure size 800x800 with 1 Axes>"
      ]
     },
     "metadata": {},
     "output_type": "display_data"
    }
   ],
   "source": [
    "\n",
    "fixed_polygon = fix_polygon(xenium_cell_polygons.loc[invalid_indices[0]][\"parsed_coordinates\"])\n",
    "\n",
    "cell_polygons = [fixed_polygon.reshape(-1, 2)]\n",
    "\n",
    "fig = plt.figure(figsize=(8, 8))\n",
    "ax = plt.gca()\n",
    "plot_polygons(\n",
    "    cell_polygons,\n",
    "    ax=ax,\n",
    "    facecolor=(0, 0, 0, 0),\n",
    "    edgecolor=\"blue\",\n",
    "    linewidth=1,\n",
    ")"
   ]
  },
  {
   "cell_type": "markdown",
   "id": "e6f48a17",
   "metadata": {},
   "source": [
    "# Pipline to fix it"
   ]
  },
  {
   "cell_type": "code",
   "execution_count": 11,
   "id": "e945abab",
   "metadata": {},
   "outputs": [
    {
     "name": "stdout",
     "output_type": "stream",
     "text": [
      "Polygon at index 54165 could not be fixed.\n",
      "Polygon at index 80801 could not be fixed.\n",
      "Polygon at index 85628 could not be fixed.\n",
      "Polygon at index 100755 could not be fixed.\n",
      "Polygon at index 146833 could not be fixed.\n",
      "Polygon at index 152496 could not be fixed.\n",
      "Polygon at index 162796 could not be fixed.\n",
      "Polygon at index 164456 could not be fixed.\n"
     ]
    }
   ],
   "source": [
    "for idx in invalid_indices:\n",
    "    coords = xenium_cell_polygons.at[idx, \"parsed_coordinates\"]\n",
    "    fixed_coords = fix_polygon(coords)\n",
    "    if isinstance(fixed_coords, np.ndarray):\n",
    "        xenium_cell_polygons.at[idx, \"parsed_coordinates\"] = fixed_coords\n",
    "        xenium_cell_polygons.at[idx, \"parsed_geometry\"] = Polygon(fixed_coords.reshape(-1, 2))\n",
    "    else:\n",
    "        print(f\"Polygon at index {idx} could not be fixed.\")"
   ]
  },
  {
   "cell_type": "code",
   "execution_count": 12,
   "id": "701520e8",
   "metadata": {},
   "outputs": [
    {
     "name": "stdout",
     "output_type": "stream",
     "text": [
      "Indices of invalid polygons: [54165, 80801, 85628, 100755, 146833, 152496, 162796, 164456]\n",
      "Number of invalid polygons: 8\n"
     ]
    }
   ],
   "source": [
    "invalid_indices_post = []\n",
    "for idx, coords in xenium_cell_polygons[\"parsed_coordinates\"].items():\n",
    "    try:\n",
    "        # Reshape to (N, 2) for Polygon\n",
    "        polygon = Polygon(coords.reshape(-1, 2))\n",
    "        if not polygon.is_valid:\n",
    "            invalid_indices_post.append(idx)\n",
    "    except Exception as e:\n",
    "        invalid_indices_post.append(idx)\n",
    "\n",
    "print(\"Indices of invalid polygons:\", invalid_indices_post)\n",
    "print(\"Number of invalid polygons:\", len(invalid_indices_post))"
   ]
  },
  {
   "cell_type": "code",
   "execution_count": 13,
   "id": "a913d784",
   "metadata": {},
   "outputs": [
    {
     "data": {
      "image/png": "[encoded data removed]",
      "text/plain": [
       "<Figure size 800x800 with 1 Axes>"
      ]
     },
     "metadata": {},
     "output_type": "display_data"
    }
   ],
   "source": [
    "\n",
    "skandi_polygon = xenium_cell_polygons.loc[invalid_indices_post[0]][\"parsed_coordinates\"]\n",
    "\n",
    "cell_polygon = [skandi_polygon.reshape(-1, 2)]\n",
    "\n",
    "fig = plt.figure(figsize=(8, 8))\n",
    "ax = plt.gca()\n",
    "plot_polygons(\n",
    "    cell_polygon,\n",
    "    ax=ax,\n",
    "    facecolor=(0, 0, 0, 0),\n",
    "    edgecolor=\"blue\",\n",
    "    linewidth=1,\n",
    ")"
   ]
  },
  {
   "cell_type": "code",
   "execution_count": 14,
   "id": "d41d604b",
   "metadata": {},
   "outputs": [],
   "source": [
    "xenium_cell_polygons = xenium_cell_polygons.drop(index=invalid_indices_post).reset_index(drop=True)"
   ]
  },
  {
   "cell_type": "code",
   "execution_count": 15,
   "id": "da9ea4a0",
   "metadata": {},
   "outputs": [
    {
     "name": "stdout",
     "output_type": "stream",
     "text": [
      "Indices of invalid polygons: []\n",
      "Number of invalid polygons: 0\n"
     ]
    }
   ],
   "source": [
    "invalid_indices_post = []\n",
    "for idx, coords in xenium_cell_polygons[\"parsed_coordinates\"].items():\n",
    "    try:\n",
    "        # Reshape to (N, 2) for Polygon\n",
    "        polygon = Polygon(coords.reshape(-1, 2))\n",
    "        if not polygon.is_valid:\n",
    "            invalid_indices_post.append(idx)\n",
    "    except Exception as e:\n",
    "        invalid_indices_post.append(idx)\n",
    "\n",
    "print(\"Indices of invalid polygons:\", invalid_indices_post)\n",
    "print(\"Number of invalid polygons:\", len(invalid_indices_post))"
   ]
  },
  {
   "cell_type": "code",
   "execution_count": 16,
   "id": "d3a336da",
   "metadata": {},
   "outputs": [],
   "source": [
    "xenium_cell_polygons = xenium_cell_polygons.drop(columns=[\"geometry\", \"parsed_coordinates\"]).rename(columns={\"parsed_geometry\": \"geometry\"})"
   ]
  },
  {
   "cell_type": "code",
   "execution_count": 17,
   "id": "7f5083ed",
   "metadata": {},
   "outputs": [
    {
     "data": {
      "text/html": [
       "<div>\n",
       "<style scoped>\n",
       "    .dataframe tbody tr th:only-of-type {\n",
       "        vertical-align: middle;\n",
       "    }\n",
       "\n",
       "    .dataframe tbody tr th {\n",
       "        vertical-align: top;\n",
       "    }\n",
       "\n",
       "    .dataframe thead th {\n",
       "        text-align: right;\n",
       "    }\n",
       "</style>\n",
       "<table border=\"1\" class=\"dataframe\">\n",
       "  <thead>\n",
       "    <tr style=\"text-align: right;\">\n",
       "      <th></th>\n",
       "      <th>Unnamed: 0</th>\n",
       "      <th>id</th>\n",
       "      <th>cell_x</th>\n",
       "      <th>cell_y</th>\n",
       "      <th>centroid</th>\n",
       "      <th>geometry</th>\n",
       "    </tr>\n",
       "  </thead>\n",
       "  <tbody>\n",
       "    <tr>\n",
       "      <th>0</th>\n",
       "      <td>0</td>\n",
       "      <td>ID_1</td>\n",
       "      <td>8140.082</td>\n",
       "      <td>3389.3010</td>\n",
       "      <td>(8140.082, 3528.301)</td>\n",
       "      <td>POLYGON ((8153.67138671875 3387.9892578125, 81...</td>\n",
       "    </tr>\n",
       "    <tr>\n",
       "      <th>1</th>\n",
       "      <td>1</td>\n",
       "      <td>ID_2</td>\n",
       "      <td>8001.864</td>\n",
       "      <td>3468.8760</td>\n",
       "      <td>(8001.864, 3607.876)</td>\n",
       "      <td>POLYGON ((8016.0625 3461.97119140625, 8011.365...</td>\n",
       "    </tr>\n",
       "    <tr>\n",
       "      <th>2</th>\n",
       "      <td>2</td>\n",
       "      <td>ID_3</td>\n",
       "      <td>8062.877</td>\n",
       "      <td>3423.9019</td>\n",
       "      <td>(8062.877, 3562.9019)</td>\n",
       "      <td>POLYGON ((8074.77099609375 3424.279052734375, ...</td>\n",
       "    </tr>\n",
       "    <tr>\n",
       "      <th>3</th>\n",
       "      <td>3</td>\n",
       "      <td>ID_4</td>\n",
       "      <td>7965.358</td>\n",
       "      <td>3452.9410</td>\n",
       "      <td>(7965.358, 3591.941)</td>\n",
       "      <td>POLYGON ((7977.92236328125 3447.507568359375, ...</td>\n",
       "    </tr>\n",
       "    <tr>\n",
       "      <th>4</th>\n",
       "      <td>4</td>\n",
       "      <td>ID_5</td>\n",
       "      <td>8022.654</td>\n",
       "      <td>3250.0593</td>\n",
       "      <td>(8022.654, 3389.0593)</td>\n",
       "      <td>POLYGON ((8033.126953125 3251.503173828125, 80...</td>\n",
       "    </tr>\n",
       "    <tr>\n",
       "      <th>...</th>\n",
       "      <td>...</td>\n",
       "      <td>...</td>\n",
       "      <td>...</td>\n",
       "      <td>...</td>\n",
       "      <td>...</td>\n",
       "      <td>...</td>\n",
       "    </tr>\n",
       "    <tr>\n",
       "      <th>165122</th>\n",
       "      <td>277653</td>\n",
       "      <td>ID_277654</td>\n",
       "      <td>18111.076</td>\n",
       "      <td>21530.2970</td>\n",
       "      <td>(18111.076, 21669.297)</td>\n",
       "      <td>POLYGON ((18131.0234375 21528.193359375, 18126...</td>\n",
       "    </tr>\n",
       "    <tr>\n",
       "      <th>165123</th>\n",
       "      <td>277654</td>\n",
       "      <td>ID_277655</td>\n",
       "      <td>17860.938</td>\n",
       "      <td>21188.3120</td>\n",
       "      <td>(17860.938, 21327.312)</td>\n",
       "      <td>POLYGON ((17868.455078125 21184.75, 17867.6718...</td>\n",
       "    </tr>\n",
       "    <tr>\n",
       "      <th>165124</th>\n",
       "      <td>277655</td>\n",
       "      <td>ID_277656</td>\n",
       "      <td>18015.506</td>\n",
       "      <td>21215.5720</td>\n",
       "      <td>(18015.506, 21354.572)</td>\n",
       "      <td>POLYGON ((18025.462890625 21214.62890625, 1802...</td>\n",
       "    </tr>\n",
       "    <tr>\n",
       "      <th>165125</th>\n",
       "      <td>277656</td>\n",
       "      <td>ID_277657</td>\n",
       "      <td>18380.260</td>\n",
       "      <td>21218.1400</td>\n",
       "      <td>(18380.26, 21357.14)</td>\n",
       "      <td>POLYGON ((18387.8671875 21205.7265625, 18386.2...</td>\n",
       "    </tr>\n",
       "    <tr>\n",
       "      <th>165126</th>\n",
       "      <td>277737</td>\n",
       "      <td>ID_277738</td>\n",
       "      <td>18310.158</td>\n",
       "      <td>18928.3440</td>\n",
       "      <td>(18310.158, 19067.344)</td>\n",
       "      <td>POLYGON ((18314.287109375 18928.220703125, 183...</td>\n",
       "    </tr>\n",
       "  </tbody>\n",
       "</table>\n",
       "<p>165127 rows × 6 columns</p>\n",
       "</div>"
      ],
      "text/plain": [
       "        Unnamed: 0         id     cell_x      cell_y                centroid  \\\n",
       "0                0       ID_1   8140.082   3389.3010    (8140.082, 3528.301)   \n",
       "1                1       ID_2   8001.864   3468.8760    (8001.864, 3607.876)   \n",
       "2                2       ID_3   8062.877   3423.9019   (8062.877, 3562.9019)   \n",
       "3                3       ID_4   7965.358   3452.9410    (7965.358, 3591.941)   \n",
       "4                4       ID_5   8022.654   3250.0593   (8022.654, 3389.0593)   \n",
       "...            ...        ...        ...         ...                     ...   \n",
       "165122      277653  ID_277654  18111.076  21530.2970  (18111.076, 21669.297)   \n",
       "165123      277654  ID_277655  17860.938  21188.3120  (17860.938, 21327.312)   \n",
       "165124      277655  ID_277656  18015.506  21215.5720  (18015.506, 21354.572)   \n",
       "165125      277656  ID_277657  18380.260  21218.1400    (18380.26, 21357.14)   \n",
       "165126      277737  ID_277738  18310.158  18928.3440  (18310.158, 19067.344)   \n",
       "\n",
       "                                                 geometry  \n",
       "0       POLYGON ((8153.67138671875 3387.9892578125, 81...  \n",
       "1       POLYGON ((8016.0625 3461.97119140625, 8011.365...  \n",
       "2       POLYGON ((8074.77099609375 3424.279052734375, ...  \n",
       "3       POLYGON ((7977.92236328125 3447.507568359375, ...  \n",
       "4       POLYGON ((8033.126953125 3251.503173828125, 80...  \n",
       "...                                                   ...  \n",
       "165122  POLYGON ((18131.0234375 21528.193359375, 18126...  \n",
       "165123  POLYGON ((17868.455078125 21184.75, 17867.6718...  \n",
       "165124  POLYGON ((18025.462890625 21214.62890625, 1802...  \n",
       "165125  POLYGON ((18387.8671875 21205.7265625, 18386.2...  \n",
       "165126  POLYGON ((18314.287109375 18928.220703125, 183...  \n",
       "\n",
       "[165127 rows x 6 columns]"
      ]
     },
     "execution_count": 17,
     "metadata": {},
     "output_type": "execute_result"
    }
   ],
   "source": [
    "xenium_cell_polygons"
   ]
  },
  {
   "cell_type": "code",
   "execution_count": 18,
   "id": "13c7771a",
   "metadata": {},
   "outputs": [],
   "source": [
    "xenium_cell_polygons.to_csv('nuclei_df.csv', index=False)"
   ]
  }
 ],
 "metadata": {
  "kernelspec": {
   "display_name": "tmp_xenium-publication-env",
   "language": "python",
   "name": "python3"
  },
  "language_info": {
   "codemirror_mode": {
    "name": "ipython",
    "version": 3
   },
   "file_extension": ".py",
   "mimetype": "text/x-python",
   "name": "python",
   "nbconvert_exporter": "python",
   "pygments_lexer": "ipython3",
   "version": "3.10.13"
  }
 },
 "nbformat": 4,
 "nbformat_minor": 5
}

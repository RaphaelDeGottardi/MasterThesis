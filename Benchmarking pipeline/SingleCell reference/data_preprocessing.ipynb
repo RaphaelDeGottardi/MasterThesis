{
 "cells": [
  {
   "cell_type": "markdown",
   "id": "1d12d9dc",
   "metadata": {},
   "source": [
    "# SC data\n",
    "The data is obtained from https://www.weizmann.ac.il/sites/3CA/lung\n",
    "We used the Dataset from https://www.nature.com/articles/s41388-021-02054-3\n",
    "\n",
    "this script is used to load the data to Anndata format and save it.\n",
    "Please adapt the paths accordingly"
   ]
  },
  {
   "cell_type": "markdown",
   "id": "edb30c15",
   "metadata": {},
   "source": [
    "We recommend using the tmp_enact_analysis environment"
   ]
  },
  {
   "cell_type": "code",
   "execution_count": null,
   "id": "f154b4b6",
   "metadata": {},
   "outputs": [],
   "source": [
    "import numpy as np\n",
    "import pandas as pd\n",
    "from scipy import io\n",
    "import matplotlib.pyplot as plt\n",
    "import scanpy as sc\n",
    "import anndata\n",
    "import tarfile"
   ]
  },
  {
   "cell_type": "code",
   "execution_count": null,
   "id": "f093cc75",
   "metadata": {},
   "outputs": [],
   "source": [
    "!curl https://www.dropbox.com/scl/fi/08bjhmr5b7zcr9w3qm37n/Data_Bischoff2021_Lung.tar.gz?rlkey=xlv2vwb5xenzczoo9jiktr1ry&dl=1\n",
    "!curl https://www.dropbox.com/scl/fi/5phcsqxntjdjjfxypf4l3/Meta-data_Bischoff2021_Lung.tar.gz?rlkey=gmn535v9fqtqaqibvjria1lks&dl=1"
   ]
  },
  {
   "cell_type": "code",
   "execution_count": null,
   "id": "72485a26",
   "metadata": {},
   "outputs": [],
   "source": [
    "sc_reference_path = \"/srv/GT/analysis/rdegottardi/data/SC_Lung_AC/Data_Bischoff2021_Lung.tar.gz\"\n",
    "sc_metedata_path = \"/srv/GT/analysis/rdegottardi/data/SC_Lung_AC/Meta-data_Bischoff2021_Lung.tar.gz\"\n"
   ]
  },
  {
   "cell_type": "code",
   "execution_count": null,
   "id": "03c3cf78",
   "metadata": {},
   "outputs": [],
   "source": [
    "# Extract and load the single-cell reference data from the tar.gz archive\n",
    "with tarfile.open(sc_reference_path, \"r:gz\") as tar:\n",
    "    # Find the matrix, genes, and cells files\n",
    "    mtx_member = tar.getmember(\"Data_Bischoff2021_Lung/Exp_data_UMIcounts.mtx\")\n",
    "    genes_member = tar.getmember(\"Data_Bischoff2021_Lung/genes.txt\")\n",
    "    cell_member = tar.getmember(\"Data_Bischoff2021_Lung/Cells.csv\")\n",
    "    \n",
    "    # Open the files\n",
    "    with tar.extractfile(mtx_member) as mtx_file, \\\n",
    "         tar.extractfile(genes_member) as genes_file, \\\n",
    "         tar.extractfile(cell_member) as cells_file:\n",
    "        \n",
    "        # Load expression matrix\n",
    "        expr_mtx = io.mmread(mtx_file).tocoo()\n",
    "        \n",
    "        # Load gene names\n",
    "        gene_names = [line.decode().strip() for line in genes_file]\n",
    "        \n",
    "        # Load cell names\n",
    "        cell_names = pd.read_csv(cells_file)['cell_name'].tolist()"
   ]
  },
  {
   "cell_type": "code",
   "execution_count": null,
   "id": "7a741e98",
   "metadata": {},
   "outputs": [],
   "source": [
    "# Extract and load the metadata from the tar.gz archive\n",
    "with tarfile.open(sc_metedata_path, \"r:gz\") as tar:\n",
    "    meta_member = tar.getmember(\"Meta-data_Bischoff2021_Lung/Cells.csv\")\n",
    "    with tar.extractfile(meta_member) as meta_file:\n",
    "        metadata = pd.read_csv(meta_file, index_col=0)"
   ]
  },
  {
   "cell_type": "code",
   "execution_count": null,
   "id": "31676f3f",
   "metadata": {},
   "outputs": [],
   "source": [
    "# Create AnnData object from the expression matrix, gene names, and cell names\n",
    "adata = anndata.AnnData(\n",
    "    X=expr_mtx.transpose().tocsr(),  # shape: cells x genes\n",
    "    obs=metadata,                    # metadata as obs\n",
    "    var=pd.DataFrame(index=gene_names)\n",
    ")"
   ]
  },
  {
   "cell_type": "code",
   "execution_count": null,
   "id": "428ab637",
   "metadata": {},
   "outputs": [],
   "source": [
    "adata.write(\"/srv/GT/analysis/rdegottardi/data/SC_Lung_AC/adata.h5ad\")\n",
    "# the data was moved to g-store and can now be found under /srv/gstore/projects/p37785/SC_Lung_AC/adata.h5ad"
   ]
  }
 ],
 "metadata": {
  "kernelspec": {
   "display_name": "tmp_enact_analysis",
   "language": "python",
   "name": "python3"
  },
  "language_info": {
   "name": "python",
   "version": "3.10.17"
  }
 },
 "nbformat": 4,
 "nbformat_minor": 5
}

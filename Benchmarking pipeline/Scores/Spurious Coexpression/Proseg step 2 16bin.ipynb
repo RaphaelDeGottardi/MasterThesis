{
 "cells": [
  {
   "cell_type": "markdown",
   "id": "e8453a92",
   "metadata": {},
   "source": [
    "# Progseq\n",
    "\n",
    "In their nature paper Cell simulation as cell segmentation the authors published a method called Proseg (probabilistic segmentation), to rapidly infer morphologically plausible cell boundaries. Their benchmarking pipeline could be used for similar pourpose as we intend. Here we try to recreate the pipelines. The original code is provided in julia here https://github.com/dcjones/SpuriousCoexpression.jl/tree/main.\n",
    "This script aims to reproduce the score and obtain it for various methods based on the Visium post Xenium dataset.\n",
    "We will use again dataset on lung cancer tissue"
   ]
  },
  {
   "cell_type": "markdown",
   "id": "90657908",
   "metadata": {},
   "source": [
    "use the tmp_enact_analysis environment"
   ]
  },
  {
   "cell_type": "markdown",
   "id": "012a6fff",
   "metadata": {},
   "source": [
    "\"Secondly, we load another segmentation: \n",
    "To produce a relative spurious coexpression distribution, we computed the conditional coexpression for each method and each pair of spuriously coexpressed genes, and then normalized (divided) by the rate observed under nuclear segmentation."
   ]
  },
  {
   "cell_type": "code",
   "execution_count": 1,
   "id": "9e8be582",
   "metadata": {},
   "outputs": [],
   "source": [
    "import numpy as np\n",
    "import matplotlib.pyplot as plt\n",
    "import scanpy as sc\n",
    "import anndata"
   ]
  },
  {
   "cell_type": "code",
   "execution_count": 2,
   "id": "b174b174",
   "metadata": {},
   "outputs": [],
   "source": [
    "path_nuclei_coexpr = \"/home/degottardiraphael/MasterThesis/Benchmarking pipeline/Scores/Spurious Coexpression/coexpr_matrix_nuc_res.npy\"\n",
    "path_spurious_mask = \"/home/degottardiraphael/MasterThesis/Benchmarking pipeline/Scores/Spurious Coexpression/spurious_mask.npy\"\n",
    "cells_adata_path = \"/srv/gstore/projects/p1001/Visium_HD_Human_Lung_Cancer_post_Xenium_Prime_5K_Experiment2/binned_outputs/square_016um/filtered_feature_bc_matrix.h5\"\n",
    "\n"
   ]
  },
  {
   "cell_type": "code",
   "execution_count": 4,
   "id": "1b47b1d9",
   "metadata": {},
   "outputs": [
    {
     "name": "stderr",
     "output_type": "stream",
     "text": [
      "/misc/ngseq12/miniforge3/envs/tmp_enact_analysis/lib/python3.10/site-packages/anndata/_core/anndata.py:1820: UserWarning: Variable names are not unique. To make them unique, call `.var_names_make_unique`.\n",
      "  utils.warn_names_duplicates(\"var\")\n",
      "/misc/ngseq12/miniforge3/envs/tmp_enact_analysis/lib/python3.10/site-packages/anndata/_core/anndata.py:1820: UserWarning: Variable names are not unique. To make them unique, call `.var_names_make_unique`.\n",
      "  utils.warn_names_duplicates(\"var\")\n"
     ]
    },
    {
     "data": {
      "text/plain": [
       "AnnData object with n_obs × n_vars = 103643 × 18085\n",
       "    var: 'gene_ids', 'feature_types', 'genome'"
      ]
     },
     "execution_count": 4,
     "metadata": {},
     "output_type": "execute_result"
    }
   ],
   "source": [
    "# Loading Anndata object\n",
    "adata_cells = sc.read_10x_h5(cells_adata_path)\n",
    "adata_cells"
   ]
  },
  {
   "cell_type": "code",
   "execution_count": 5,
   "id": "2947333b",
   "metadata": {},
   "outputs": [
    {
     "name": "stdout",
     "output_type": "stream",
     "text": [
      "Quality control metrics for cells:\n",
      "        total_counts  n_genes_by_counts\n",
      "count  103643.000000      103643.000000\n",
      "mean      280.632996         223.117142\n",
      "std       242.885498         187.593029\n",
      "min         0.000000           0.000000\n",
      "25%        76.000000          68.000000\n",
      "50%       217.000000         168.000000\n",
      "75%       431.000000         344.000000\n",
      "max      3551.000000        2236.000000\n"
     ]
    }
   ],
   "source": [
    "sc.pp.calculate_qc_metrics(adata_cells, inplace=True)\n",
    "print(\"Quality control metrics for cells:\")\n",
    "print(adata_cells.obs[['total_counts', 'n_genes_by_counts']].describe())"
   ]
  },
  {
   "cell_type": "code",
   "execution_count": 6,
   "id": "894fbc70",
   "metadata": {},
   "outputs": [
    {
     "name": "stdout",
     "output_type": "stream",
     "text": [
      "Cells remaining after filtering for >50 transcripts: 86336\n"
     ]
    },
    {
     "data": {
      "text/plain": [
       "AnnData object with n_obs × n_vars = 10000 × 1000\n",
       "    obs: 'n_genes_by_counts', 'log1p_n_genes_by_counts', 'total_counts', 'log1p_total_counts', 'pct_counts_in_top_50_genes', 'pct_counts_in_top_100_genes', 'pct_counts_in_top_200_genes', 'pct_counts_in_top_500_genes'\n",
       "    var: 'gene_ids', 'feature_types', 'genome', 'n_cells_by_counts', 'mean_counts', 'log1p_mean_counts', 'pct_dropout_by_counts', 'total_counts', 'log1p_total_counts'"
      ]
     },
     "execution_count": 6,
     "metadata": {},
     "output_type": "execute_result"
    }
   ],
   "source": [
    "\n",
    "total_counts_cells = np.array(adata_cells.X.sum(axis=1)).flatten()\n",
    "cell_mask_50 = total_counts_cells >= 50\n",
    "filtered_ids = adata_cells.obs_names[cell_mask_50]\n",
    "# Use mean_counts from AnnData var to get indices of top 1000 genes\n",
    "mean_counts = adata_cells.var[\"mean_counts\"].values\n",
    "top_1000_idx = np.argsort(mean_counts)[-1000:]\n",
    "# only keep the first 10000 cells for memory efficiency\n",
    "adata_cells_ready = adata_cells[filtered_ids[:10000], top_1000_idx].copy()\n",
    "\n",
    "print(f\"Cells remaining after filtering for >50 transcripts: {len(filtered_ids)}\")\n",
    "adata_cells_ready"
   ]
  },
  {
   "cell_type": "code",
   "execution_count": 7,
   "id": "9bca9ed4",
   "metadata": {},
   "outputs": [],
   "source": [
    "\n",
    "# Check for floating point precision issues in multinomial_downsample\n",
    "def safe_multinomial_downsample(cdata):\n",
    "    X = cdata.X.toarray() \n",
    "    X_ds = np.zeros_like(X, dtype=int)\n",
    "    for i in range(X.shape[0]):\n",
    "        counts = X[i]\n",
    "        total = counts.sum()\n",
    "        if total > 1:\n",
    "            probs = counts / total\n",
    "            # Normalize to sum to 1.0\n",
    "            if probs.sum() > 0:\n",
    "                probs = probs.astype(np.float64)  # Cast to 64-bit float\n",
    "                probs = probs / probs.sum()\n",
    "                X_ds[i] = np.random.multinomial(50, probs, size=1).flatten()\n",
    "            else:\n",
    "                print(f\"Warning: Row {i} has zero total counts, skipping downsampling.\")\n",
    "        else:\n",
    "            print(f\"Warning: Row {i} has total counts {counts.sum()}<= 1, skipping downsampling.\")\n",
    "    return X_ds\n",
    "\n",
    "cell_X_ds = safe_multinomial_downsample(adata_cells_ready)\n",
    "\n",
    "# Create new AnnData objects with downsampled counts\n",
    "adata_cells_resampled = anndata.AnnData(cell_X_ds, obs=adata_cells_ready.obs.copy(), var=adata_cells_ready.var.copy())"
   ]
  },
  {
   "cell_type": "code",
   "execution_count": 8,
   "id": "82d26b7e",
   "metadata": {},
   "outputs": [
    {
     "name": "stdout",
     "output_type": "stream",
     "text": [
      "Binarizing expression matrix (cell_X_ds > 0)...\n",
      "Calculating coexpression matrix using matrix multiplication...\n",
      "PDZK1 - NRAS: 0.9320148331273177\n",
      "NOTCH2 - C1orf141: 0.9289617486338798\n",
      "NOTCH2 - CHIA: 0.9212827988338192\n",
      "NOTCH2 - TMED5: 0.9198473282442748\n",
      "PDZK1 - WARS2: 0.9031165311653117\n",
      "PDZK1 - MCOLN2: 0.8991228070175439\n",
      "PDZK1 - CYB561D1: 0.8935361216730038\n",
      "NBPF20 - MCOLN2: 0.8464912280701754\n",
      "PDZK1 - NBPF20: 0.8404354587869363\n",
      "PDZK1 - SLC22A15: 0.8384991843393148\n"
     ]
    }
   ],
   "source": [
    "print(\"Binarizing expression matrix (cell_X_ds > 0)...\")\n",
    "expr = (cell_X_ds > 0).astype(int)\n",
    "\n",
    "print(\"Calculating coexpression matrix using matrix multiplication...\")\n",
    "coexpr_matrix = (expr.T @ expr) / np.sum(expr, axis=0)\n",
    "\n",
    "# Zero out diagonal to ignore self-coexpression\n",
    "coexpr_no_diag = coexpr_matrix.copy()\n",
    "np.fill_diagonal(coexpr_no_diag, 0)\n",
    "\n",
    "# Find the indices of the top N coexpressed gene pairs\n",
    "N = 10\n",
    "flat_indices = np.argpartition(coexpr_no_diag.flatten(), -N)[-N:]\n",
    "row_idx, col_idx = np.unravel_index(flat_indices, coexpr_no_diag.shape)\n",
    "\n",
    "# Get gene names\n",
    "gene_names = adata_cells.var_names\n",
    "\n",
    "# List the most coexpressed gene pairs and their counts\n",
    "top_pairs = []\n",
    "for i, j in zip(row_idx, col_idx):\n",
    "    top_pairs.append((gene_names[i], gene_names[j], coexpr_no_diag[i, j]))\n",
    "\n",
    "# Sort by coexpression count descending\n",
    "top_pairs = sorted(top_pairs, key=lambda x: -x[2])\n",
    "\n",
    "for g1, g2, count in top_pairs:\n",
    "    print(f\"{g1} - {g2}: {count}\")"
   ]
  },
  {
   "cell_type": "code",
   "execution_count": 9,
   "id": "c7975b5c",
   "metadata": {},
   "outputs": [
    {
     "name": "stdout",
     "output_type": "stream",
     "text": [
      "Nucleus coexpression matrix shape: (1000, 1000)\n"
     ]
    }
   ],
   "source": [
    "coexpr_matrix_nuc_res = np.load(path_nuclei_coexpr)\n",
    "print(\"Nucleus coexpression matrix shape:\", coexpr_matrix_nuc_res.shape)"
   ]
  },
  {
   "cell_type": "code",
   "execution_count": 10,
   "id": "01f68057",
   "metadata": {},
   "outputs": [],
   "source": [
    "# Avoid division by zero\n",
    "with np.errstate(divide='ignore', invalid='ignore'):\n",
    "    rel_increase_res = coexpr_no_diag / np.where(coexpr_matrix_nuc_res > 0, coexpr_matrix_nuc_res, 1)"
   ]
  },
  {
   "cell_type": "code",
   "execution_count": 11,
   "id": "9fdd134f",
   "metadata": {},
   "outputs": [
    {
     "name": "stdout",
     "output_type": "stream",
     "text": [
      "Spurious mask shape: (1000, 1000)\n"
     ]
    }
   ],
   "source": [
    "spurious_mask = np.load(path_spurious_mask)\n",
    "print(\"Spurious mask shape:\", spurious_mask.shape)"
   ]
  },
  {
   "cell_type": "code",
   "execution_count": 12,
   "id": "8871f983",
   "metadata": {},
   "outputs": [
    {
     "name": "stdout",
     "output_type": "stream",
     "text": [
      "Extracted 236020 spurious relative coexpression values.\n"
     ]
    }
   ],
   "source": [
    "# Use the spurious_mask to extract relative coexpression values from rel_increase_res\n",
    "spurious_rel_coexpr_values = rel_increase_res[spurious_mask]\n",
    "print(f\"Extracted {spurious_rel_coexpr_values.size} spurious relative coexpression values.\")"
   ]
  },
  {
   "cell_type": "code",
   "execution_count": 13,
   "id": "13aad9ad",
   "metadata": {},
   "outputs": [
    {
     "data": {
      "image/png": "[encoded data removed]",
      "text/plain": [
       "<Figure size 1000x600 with 1 Axes>"
      ]
     },
     "metadata": {},
     "output_type": "display_data"
    }
   ],
   "source": [
    "import seaborn as sns\n",
    "\n",
    "plt.figure(figsize=(10, 6))\n",
    "sns.violinplot(data=spurious_rel_coexpr_values, inner=\"box\", color=\"skyblue\")\n",
    "plt.title(\"Distribution of Relative Spurious Coexpression Values\", fontsize=16)\n",
    "plt.ylabel(\"Relative Spurious Coexpression\", fontsize=14)\n",
    "plt.xlabel(\"Spurious Gene Pairs\", fontsize=14)\n",
    "plt.xticks([])\n",
    "plt.grid(axis='y', linestyle='--', alpha=0.5)\n",
    "plt.tight_layout()\n",
    "plt.show()"
   ]
  },
  {
   "cell_type": "code",
   "execution_count": 14,
   "id": "cfc705c1",
   "metadata": {},
   "outputs": [
    {
     "name": "stdout",
     "output_type": "stream",
     "text": [
      "Summary statistics for spurious relative coexpression values:\n",
      "Count: 236020\n",
      "Mean: 2.4759\n",
      "Median: 1.9286\n",
      "Standard deviation: 2.4018\n",
      "Min: 0.0000\n",
      "Max: 277.8989\n"
     ]
    }
   ],
   "source": [
    "print(\"Summary statistics for spurious relative coexpression values:\")\n",
    "print(f\"Count: {spurious_rel_coexpr_values.size}\")\n",
    "print(f\"Mean: {np.mean(spurious_rel_coexpr_values):.4f}\")\n",
    "print(f\"Median: {np.median(spurious_rel_coexpr_values):.4f}\")\n",
    "print(f\"Standard deviation: {np.std(spurious_rel_coexpr_values):.4f}\")\n",
    "print(f\"Min: {np.min(spurious_rel_coexpr_values):.4f}\")\n",
    "print(f\"Max: {np.max(spurious_rel_coexpr_values):.4f}\")"
   ]
  },
  {
   "cell_type": "code",
   "execution_count": 16,
   "id": "c0117bec",
   "metadata": {},
   "outputs": [
    {
     "name": "stdout",
     "output_type": "stream",
     "text": [
      "Added '16x16' column to CSV and saved.\n"
     ]
    }
   ],
   "source": [
    "import pandas as pd\n",
    "\n",
    "csv_path = \"/home/degottardiraphael/MasterThesis/Benchmarking pipeline/Scores/Spurious Coexpression/spurious_rel_coexpr.csv\"\n",
    "df_spurious = pd.read_csv(csv_path)\n",
    "df_spurious[\"16x16\"] = spurious_rel_coexpr_values\n",
    "df_spurious.to_csv(csv_path, index=False)\n",
    "print(\"Added '16x16' column to CSV and saved.\")"
   ]
  },
  {
   "cell_type": "code",
   "execution_count": 15,
   "id": "227ed728",
   "metadata": {},
   "outputs": [
    {
     "name": "stdout",
     "output_type": "stream",
     "text": [
      "Number of potentially spurious pairs: 236020\n",
      "CTTNBP2NL - NBPF20: cell=0.06251944012441679, nuclei=0.0002249718785151856, rel_increase=277.90\n",
      "TRIM45 - SLC16A4: cell=0.2972972972972973, nuclei=0.0022371364653243847, rel_increase=132.89\n",
      "DNAJC6 - PDZK1: cell=0.017130620985010708, nuclei=0.00017041581458759374, rel_increase=100.52\n",
      "TRIM45 - TSPAN2: cell=0.20577350111028866, nuclei=0.002178649237472767, rel_increase=94.45\n",
      "GFI1 - FCGR1B: cell=0.031113058720420684, nuclei=0.00033534540576794097, rel_increase=92.78\n",
      "NOTCH2 - CHIA: cell=0.9212827988338192, nuclei=0.011396011396011397, rel_increase=80.84\n",
      "DNAJC6 - NBPF20: cell=0.018040435458786936, nuclei=0.0002249718785151856, rel_increase=80.19\n",
      "TMED5 - CRYZ: cell=0.3632075471698113, nuclei=0.005050505050505051, rel_increase=71.92\n",
      "WDR77 - HSD3B2: cell=0.07501674480910918, nuclei=0.0011217049915872126, rel_increase=66.88\n",
      "WDR77 - IGSF3: cell=0.07763401109057301, nuclei=0.0013123359580052493, rel_increase=59.16\n"
     ]
    }
   ],
   "source": [
    "# Find pairs with >50% increase in coexpression in cells vs nuclei\n",
    "spurious_mask15 = rel_increase_res > 1.5\n",
    "\n",
    "# Get indices of such pairs\n",
    "spurious_row, spurious_col = np.where(spurious_mask)\n",
    "\n",
    "# List the pairs \n",
    "spurious_pairs = []\n",
    "for i, j in zip(spurious_row, spurious_col):\n",
    "    spurious_pairs.append((gene_names[i], gene_names[j], coexpr_no_diag[i, j], coexpr_matrix_nuc_res[i, j], rel_increase_res[i, j]))\n",
    "\n",
    "print(f\"Number of potentially spurious pairs: {len(spurious_pairs)}\")\n",
    "# Show top 10 by relative increase\n",
    "spurious_pairs_sorted = sorted(spurious_pairs, key=lambda x: -x[4])\n",
    "for g1, g2, cell_val, nuc_val, rel_inc in spurious_pairs_sorted[:10]:\n",
    "    print(f\"{g1} - {g2}: cell={cell_val}, nuclei={nuc_val}, rel_increase={rel_inc:.2f}\")"
   ]
  }
 ],
 "metadata": {
  "kernelspec": {
   "display_name": "tmp_enact_analysis",
   "language": "python",
   "name": "python3"
  },
  "language_info": {
   "codemirror_mode": {
    "name": "ipython",
    "version": 3
   },
   "file_extension": ".py",
   "mimetype": "text/x-python",
   "name": "python",
   "nbconvert_exporter": "python",
   "pygments_lexer": "ipython3",
   "version": "3.10.17"
  }
 },
 "nbformat": 4,
 "nbformat_minor": 5
}

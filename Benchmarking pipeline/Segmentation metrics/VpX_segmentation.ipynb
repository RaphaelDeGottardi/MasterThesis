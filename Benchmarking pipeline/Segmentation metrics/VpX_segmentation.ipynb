{
 "cells": [
  {
   "cell_type": "markdown",
   "id": "4504fc87",
   "metadata": {},
   "source": [
    "## The Script\n",
    "For the evaluation of the segmentation metrics is highly based on the helper functions provided by Janesick et al. so we placed it in `Xenium Segmentation Transfer/segmentation-comparison.ipynb` \n",
    "Some remarks on the evaluation can be found below:\n"
   ]
  },
  {
   "cell_type": "markdown",
   "id": "db93ad31",
   "metadata": {},
   "source": [
    "## ENACT vs Xenium\n",
    "Are the two segmentations e compare. Bin2cell as well as Spaceranger v4.0 both rely on stardist nucleus segmentation and subsequent circular expansion so I assume they would be similar enough. This neglects the following violations: \n",
    "- This assumption does not hold true for bin2cell as it also relies on the Total Gene Expression image for segmentation.\n",
    "- Also for Spaceranger it is not fully valid as 10X claims to have fine-tuned their stardist model so the nucleus segmentation could be slightly varying wrt. the public models.\n"
   ]
  }
 ],
 "metadata": {
  "language_info": {
   "name": "python"
  }
 },
 "nbformat": 4,
 "nbformat_minor": 5
}
